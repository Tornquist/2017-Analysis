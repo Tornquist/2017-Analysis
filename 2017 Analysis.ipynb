{
 "cells": [
  {
   "cell_type": "code",
   "execution_count": 1,
   "metadata": {
    "collapsed": false
   },
   "outputs": [],
   "source": [
    "import pandas as pd\n",
    "import numpy as np\n",
    "import matplotlib.pyplot as plt\n",
    "import matplotlib.ticker as ticker\n",
    "import datetime"
   ]
  },
  {
   "cell_type": "code",
   "execution_count": 2,
   "metadata": {
    "collapsed": true
   },
   "outputs": [],
   "source": [
    "%matplotlib inline"
   ]
  },
  {
   "cell_type": "code",
   "execution_count": 3,
   "metadata": {
    "collapsed": true
   },
   "outputs": [],
   "source": [
    "SUN = \"Sunday\"\n",
    "MON = \"Monday\"\n",
    "TUE = \"Tuesday\"\n",
    "WED = \"Wednesday\"\n",
    "THU = \"Thursday\"\n",
    "FRI = \"Friday\"\n",
    "SAT = \"Saturday\"\n",
    "\n",
    "WEEK = [SUN, MON, TUE, WED, THU, FRI, SAT]\n",
    "WORK_WEEK = [MON, TUE, WED, THU, FRI]"
   ]
  },
  {
   "cell_type": "code",
   "execution_count": 4,
   "metadata": {
    "collapsed": true
   },
   "outputs": [],
   "source": [
    "FILENAME = 'tyme_20170101-20171231.csv'\n",
    "\n",
    "def read_data(name=FILENAME):\n",
    "    data = pd.read_csv(name)\n",
    "    return data\n",
    "\n",
    "def get_start_hours(filter=None):\n",
    "    data = read_data()\n",
    "    complete_data = {\n",
    "        SUN: [0]*24,\n",
    "        MON: [0]*24,\n",
    "        TUE: [0]*24,\n",
    "        WED: [0]*24,\n",
    "        THU: [0]*24,\n",
    "        FRI: [0]*24,\n",
    "        SAT: [0]*24,\n",
    "    }\n",
    "    \n",
    "    columns = list(data.columns.values)\n",
    "    day_index = columns.index(\"day\")\n",
    "    project_index = columns.index(\"project\")\n",
    "    task_index = columns.index(\"task\")\n",
    "    start_index = columns.index(\"start\")\n",
    "    \n",
    "    for row in data.values:\n",
    "        day = row[day_index]\n",
    "        project = row[project_index]\n",
    "        task = row[task_index]\n",
    "        start = row[start_index]\n",
    "\n",
    "        if (filter == None or filter == task):\n",
    "            start_time = datetime.datetime.strptime(start, '%I:%M %p')\n",
    "            complete_data[day][start_time.hour] += 1\n",
    "    return complete_data"
   ]
  },
  {
   "cell_type": "code",
   "execution_count": 5,
   "metadata": {
    "collapsed": false
   },
   "outputs": [
    {
     "data": {
      "image/png": "[encoded data removed]",
      "text/plain": [
       "<matplotlib.figure.Figure at 0x11ebcb208>"
      ]
     },
     "metadata": {},
     "output_type": "display_data"
    }
   ],
   "source": [
    "fig = plt.figure()\n",
    "\n",
    "ax = fig.add_subplot(111)\n",
    "\n",
    "WEEK_TYPE = WEEK\n",
    "\n",
    "start_hours = get_start_hours(\"SkinIO\")\n",
    "hour_precision = len(start_hours[MON])\n",
    "time_labels = range(hour_precision)\n",
    "\n",
    "df = list(map(lambda day: start_hours[day], WEEK_TYPE))\n",
    "\n",
    "cax = ax.matshow(df, interpolation='nearest', cmap='Blues')\n",
    "fig.colorbar(cax)\n",
    "\n",
    "tick_spacing = 1\n",
    "ax.xaxis.set_major_locator(ticker.MultipleLocator(tick_spacing))\n",
    "ax.yaxis.set_major_locator(ticker.MultipleLocator(tick_spacing))\n",
    "\n",
    "ax.set_xticklabels([''] + list(time_labels)) \n",
    "ax.set_yticklabels([''] + list(WEEK_TYPE))\n",
    "\n",
    "plt.show()"
   ]
  },
  {
   "cell_type": "code",
   "execution_count": null,
   "metadata": {
    "collapsed": true
   },
   "outputs": [],
   "source": []
  }
 ],
 "metadata": {
  "anaconda-cloud": {},
  "kernelspec": {
   "display_name": "Python 3",
   "language": "python",
   "name": "python3"
  },
  "language_info": {
   "codemirror_mode": {
    "name": "ipython",
    "version": 3
   },
   "file_extension": ".py",
   "mimetype": "text/x-python",
   "name": "python",
   "nbconvert_exporter": "python",
   "pygments_lexer": "ipython3",
   "version": "3.5.2"
  }
 },
 "nbformat": 4,
 "nbformat_minor": 1
}
