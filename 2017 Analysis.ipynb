{
 "cells": [
  {
   "cell_type": "code",
   "execution_count": 1,
   "metadata": {
    "collapsed": false
   },
   "outputs": [],
   "source": [
    "import pandas as pd\n",
    "import numpy as np\n",
    "import matplotlib\n",
    "import matplotlib.pyplot as plt\n",
    "import matplotlib.ticker as ticker\n",
    "import datetime\n",
    "\n",
    "from enum import Enum"
   ]
  },
  {
   "cell_type": "code",
   "execution_count": 2,
   "metadata": {
    "collapsed": true
   },
   "outputs": [],
   "source": [
    "%matplotlib inline"
   ]
  },
  {
   "cell_type": "code",
   "execution_count": 14,
   "metadata": {
    "collapsed": false
   },
   "outputs": [],
   "source": [
    "class Day(Enum):\n",
    "    SUN = \"Sunday\"\n",
    "    MON = \"Monday\"\n",
    "    TUE = \"Tuesday\"\n",
    "    WED = \"Wednesday\"\n",
    "    THU = \"Thursday\"\n",
    "    FRI = \"Friday\"\n",
    "    SAT = \"Saturday\"\n",
    "    \n",
    "class Week(Enum):\n",
    "    FULL = [Day.SUN, Day.MON, Day.TUE, Day.WED, Day.THU, Day.FRI, Day.SAT]\n",
    "    WORK = [Day.MON, Day.TUE, Day.WED, Day.THU, Day.FRI]\n",
    "\n",
    "    def days(self):\n",
    "        return self.value\n",
    "    \n",
    "    def day_names(self):\n",
    "        return list(map(lambda day: day.value, self.value))\n",
    "\n",
    "class Project(Enum):\n",
    "    UPLINK = \"Uplink\"\n",
    "    SKINIO = \"SkinIO\"\n",
    "    TRUMPET = \"Trumpet\"\n",
    "    ALEXANDRIA = \"Alexandria\"\n",
    "    QUEST = \"Quest\"\n",
    "    SCINTILLOMETER = \"Scintillometer\"\n",
    "    WEDDING_WEBSITE = \"Wedding Website\"\n",
    "    OTHER = \"Other\"\n",
    "\n",
    "class Key(Enum):\n",
    "    DATE = \"date\"\n",
    "    DAY = \"day\"\n",
    "    PROJECT = \"project\"\n",
    "    START = \"start\"\n",
    "    END = \"end\"\n",
    "    AMOUNT = \"amount\"\n",
    "\n",
    "FILENAME = '2017-Records.csv'"
   ]
  },
  {
   "cell_type": "code",
   "execution_count": 15,
   "metadata": {
    "collapsed": false
   },
   "outputs": [],
   "source": [
    "def read_data(name=FILENAME):\n",
    "    data = pd.read_csv(name)\n",
    "    return data\n",
    "\n",
    "def remap_project_type(project, task):\n",
    "    if (project == \"Uplink\"):\n",
    "        return Project.UPLINK\n",
    "    elif (task == \"SkinIO\"):\n",
    "        return Project.SKINIO\n",
    "    elif (project == \"Trumpet\"):\n",
    "        return Project.TRUMPET\n",
    "    elif (project == \"Alexandria\"):\n",
    "        return Project.ALEXANDRIA\n",
    "    elif (project == \"Quest\"):\n",
    "        return Project.QUEST\n",
    "    elif (project == \"Scintillometer\"):\n",
    "        return Project.SCINTILLOMETER\n",
    "    elif (project == \"Wedding Website\"):\n",
    "        return Project.WEDDING_WEBSITE\n",
    "    else:\n",
    "        return Project.OTHER\n",
    "    \n",
    "def reformat_data(data):\n",
    "    columns = list(data.columns.values)\n",
    "\n",
    "    date_index = columns.index(\"date\")\n",
    "    day_index = columns.index(\"day\")\n",
    "    \n",
    "    project_index = columns.index(\"project\")\n",
    "    task_index = columns.index(\"task\")\n",
    "    \n",
    "    start_index = columns.index(\"start\")\n",
    "    end_index = columns.index(\"end\")\n",
    "    \n",
    "    amount_index = columns.index(\"amount_decimal\")\n",
    "    \n",
    "    formatted = []\n",
    "    for row in data.values:\n",
    "        date = row[date_index]\n",
    "        day = row[day_index]\n",
    "        \n",
    "        project_raw = row[project_index]\n",
    "        task_raw = row[task_index]\n",
    "        project = remap_project_type(project_raw, task_raw)\n",
    "        \n",
    "        start = row[start_index]\n",
    "        end = row[end_index]\n",
    "        \n",
    "        amount = row[amount_index]\n",
    "        formatted.append({\n",
    "            Key.DATE: date,\n",
    "            Key.DAY: Day(day),\n",
    "            Key.PROJECT: project,\n",
    "            Key.START: start,\n",
    "            Key.END: end,\n",
    "            Key.AMOUNT: amount\n",
    "        })\n",
    "    return formatted\n",
    "\n",
    "def get_data():\n",
    "    return reformat_data(read_data())\n",
    "\n",
    "def get_by_project(project):\n",
    "    data = get_data()\n",
    "    return list(filter(lambda entry: entry[Key.PROJECT] == project, data))"
   ]
  },
  {
   "cell_type": "code",
   "execution_count": 16,
   "metadata": {
    "collapsed": true
   },
   "outputs": [],
   "source": [
    "def get_working_hours(filter=None, groups_per_hour = 12):\n",
    "    data = get_data if filter == None else get_by_project(filter)\n",
    "    complete_data = {\n",
    "        Day.SUN: [0]*(24*groups_per_hour),\n",
    "        Day.MON: [0]*(24*groups_per_hour),\n",
    "        Day.TUE: [0]*(24*groups_per_hour),\n",
    "        Day.WED: [0]*(24*groups_per_hour),\n",
    "        Day.THU: [0]*(24*groups_per_hour),\n",
    "        Day.FRI: [0]*(24*groups_per_hour),\n",
    "        Day.SAT: [0]*(24*groups_per_hour),\n",
    "    }\n",
    "    \n",
    "    for row in data:\n",
    "        start_time = datetime.datetime.strptime(row[Key.START], '%I:%M %p')\n",
    "        end_time = datetime.datetime.strptime(row[Key.END], '%I:%M %p')\n",
    "\n",
    "        start_time_index = start_time.hour * groups_per_hour + round(start_time.minute/(60/groups_per_hour))\n",
    "        end_time_index = end_time.hour * groups_per_hour + round(end_time.minute/(60/groups_per_hour))\n",
    "            \n",
    "        for time_index in range(start_time_index, end_time_index + 1):\n",
    "            complete_data[row[Key.DAY]][time_index] += 1\n",
    "    return complete_data"
   ]
  },
  {
   "cell_type": "code",
   "execution_count": 24,
   "metadata": {
    "collapsed": false
   },
   "outputs": [
    {
     "ename": "KeyError",
     "evalue": "'Sunday'",
     "output_type": "error",
     "traceback": [
      "\u001b[0;31m---------------------------------------------------------------------------\u001b[0m",
      "\u001b[0;31mKeyError\u001b[0m                                  Traceback (most recent call last)",
      "\u001b[0;32m<ipython-input-24-c9fefe4bb2f7>\u001b[0m in \u001b[0;36m<module>\u001b[0;34m()\u001b[0m\n\u001b[1;32m     23\u001b[0m \u001b[0;32mfor\u001b[0m \u001b[0mday\u001b[0m \u001b[0;32min\u001b[0m \u001b[0mWEEK_TYPE\u001b[0m\u001b[0;34m.\u001b[0m\u001b[0mdays\u001b[0m\u001b[0;34m(\u001b[0m\u001b[0;34m)\u001b[0m\u001b[0;34m:\u001b[0m\u001b[0;34m\u001b[0m\u001b[0m\n\u001b[1;32m     24\u001b[0m     \u001b[0;32mfor\u001b[0m \u001b[0m_\u001b[0m \u001b[0;32min\u001b[0m \u001b[0mrange\u001b[0m\u001b[0;34m(\u001b[0m\u001b[0mpadding_scaler\u001b[0m \u001b[0;32mif\u001b[0m \u001b[0mpadding_scaler\u001b[0m \u001b[0;34m>\u001b[0m \u001b[0;36m0\u001b[0m \u001b[0;32melse\u001b[0m \u001b[0;36m1\u001b[0m\u001b[0;34m)\u001b[0m\u001b[0;34m:\u001b[0m\u001b[0;34m\u001b[0m\u001b[0m\n\u001b[0;32m---> 25\u001b[0;31m         \u001b[0mdf\u001b[0m\u001b[0;34m.\u001b[0m\u001b[0mappend\u001b[0m\u001b[0;34m(\u001b[0m\u001b[0mworking_hours\u001b[0m\u001b[0;34m[\u001b[0m\u001b[0mday\u001b[0m\u001b[0;34m]\u001b[0m\u001b[0;34m)\u001b[0m\u001b[0;34m\u001b[0m\u001b[0m\n\u001b[0m\u001b[1;32m     26\u001b[0m \u001b[0;34m\u001b[0m\u001b[0m\n\u001b[1;32m     27\u001b[0m \u001b[0mticker_locations\u001b[0m \u001b[0;34m=\u001b[0m \u001b[0;34m[\u001b[0m\u001b[0mround\u001b[0m\u001b[0;34m(\u001b[0m\u001b[0mpadding_scaler\u001b[0m \u001b[0;34m/\u001b[0m \u001b[0;36m2\u001b[0m\u001b[0;34m)\u001b[0m \u001b[0;34m-\u001b[0m \u001b[0;36m1\u001b[0m\u001b[0;34m]\u001b[0m\u001b[0;34m\u001b[0m\u001b[0m\n",
      "\u001b[0;31mKeyError\u001b[0m: 'Sunday'"
     ]
    },
    {
     "data": {
      "image/png": "[encoded data removed]",
      "text/plain": [
       "<matplotlib.figure.Figure at 0x121816cf8>"
      ]
     },
     "metadata": {},
     "output_type": "display_data"
    }
   ],
   "source": [
    "fig = plt.figure(figsize=(18, 6))\n",
    "\n",
    "ax = fig.add_subplot(111)\n",
    "\n",
    "WEEK_TYPE = Week.FULL\n",
    "# GROUPS_PER_HOUR must be >= 2\n",
    "GROUPS_PER_HOUR = 6\n",
    "\n",
    "working_hours = get_working_hours(Project.SKINIO, GROUPS_PER_HOUR)\n",
    "time_labels = list(map(lambda label: (label if label <= 12 else label - 12), range(24)))\n",
    "\n",
    "# matshow displays matrices in their native ratio. To get this to display well, the data will\n",
    "# be padded. That will make each cell rectangular, but will make interpretation of the graph\n",
    "# much easier.\n",
    "\n",
    "target_ratio = 3\n",
    "time_length = len(working_hours[Day.MON])\n",
    "days_length = len(WEEK_TYPE.days())\n",
    "current_ratio = time_length/days_length\n",
    "padding_scaler = round(current_ratio/target_ratio)\n",
    "\n",
    "df = []\n",
    "for day in WEEK_TYPE.days():\n",
    "    for _ in range(padding_scaler if padding_scaler > 0 else 1):\n",
    "        df.append(working_hours[day])\n",
    "        \n",
    "ticker_locations = [round(padding_scaler / 2) - 1]\n",
    "while (ticker_locations[-1] + padding_scaler) < len(df):\n",
    "    ticker_locations.append(ticker_locations[-1] + padding_scaler)\n",
    "\n",
    "cax = ax.matshow(df, interpolation='nearest', cmap='Blues')\n",
    "fig.colorbar(cax)\n",
    "\n",
    "ax.xaxis.set_major_locator(ticker.MultipleLocator(GROUPS_PER_HOUR))\n",
    "ax.yaxis.set_major_locator(ticker.FixedLocator(ticker_locations))\n",
    "\n",
    "ax.set_xticklabels([''] + list(time_labels))\n",
    "ax.set_yticklabels(list(WEEK_TYPE.day_names()))\n",
    "\n",
    "plt.show()"
   ]
  },
  {
   "cell_type": "code",
   "execution_count": 26,
   "metadata": {
    "collapsed": true
   },
   "outputs": [],
   "source": []
  },
  {
   "cell_type": "code",
   "execution_count": null,
   "metadata": {
    "collapsed": true
   },
   "outputs": [],
   "source": []
  }
 ],
 "metadata": {
  "anaconda-cloud": {},
  "kernelspec": {
   "display_name": "Python 3",
   "language": "python",
   "name": "python3"
  },
  "language_info": {
   "codemirror_mode": {
    "name": "ipython",
    "version": 3
   },
   "file_extension": ".py",
   "mimetype": "text/x-python",
   "name": "python",
   "nbconvert_exporter": "python",
   "pygments_lexer": "ipython3",
   "version": "3.5.2"
  }
 },
 "nbformat": 4,
 "nbformat_minor": 1
}
