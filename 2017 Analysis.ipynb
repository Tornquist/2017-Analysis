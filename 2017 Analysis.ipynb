{
 "cells": [
  {
   "cell_type": "code",
   "execution_count": 1,
   "metadata": {
    "collapsed": false
   },
   "outputs": [],
   "source": [
    "import pandas as pd\n",
    "import numpy as np\n",
    "import matplotlib\n",
    "import matplotlib.pyplot as plt\n",
    "import matplotlib.ticker as ticker\n",
    "import datetime"
   ]
  },
  {
   "cell_type": "code",
   "execution_count": 2,
   "metadata": {
    "collapsed": true
   },
   "outputs": [],
   "source": [
    "%matplotlib inline"
   ]
  },
  {
   "cell_type": "code",
   "execution_count": 3,
   "metadata": {
    "collapsed": true
   },
   "outputs": [],
   "source": [
    "SUN = \"Sunday\"\n",
    "MON = \"Monday\"\n",
    "TUE = \"Tuesday\"\n",
    "WED = \"Wednesday\"\n",
    "THU = \"Thursday\"\n",
    "FRI = \"Friday\"\n",
    "SAT = \"Saturday\"\n",
    "\n",
    "WEEK = [SUN, MON, TUE, WED, THU, FRI, SAT]\n",
    "WORK_WEEK = [MON, TUE, WED, THU, FRI]"
   ]
  },
  {
   "cell_type": "code",
   "execution_count": 40,
   "metadata": {
    "collapsed": true
   },
   "outputs": [],
   "source": [
    "FILENAME = 'tyme_20170101-20171231.csv'\n",
    "\n",
    "def read_data(name=FILENAME):\n",
    "    data = pd.read_csv(name)\n",
    "    return data\n",
    "\n",
    "def get_working_hours(filter=None, groups_per_hour = 12):\n",
    "    \n",
    "    data = read_data()\n",
    "    complete_data = {\n",
    "        SUN: [0]*(24*groups_per_hour),\n",
    "        MON: [0]*(24*groups_per_hour),\n",
    "        TUE: [0]*(24*groups_per_hour),\n",
    "        WED: [0]*(24*groups_per_hour),\n",
    "        THU: [0]*(24*groups_per_hour),\n",
    "        FRI: [0]*(24*groups_per_hour),\n",
    "        SAT: [0]*(24*groups_per_hour),\n",
    "    }\n",
    "    \n",
    "    columns = list(data.columns.values)\n",
    "    day_index = columns.index(\"day\")\n",
    "    project_index = columns.index(\"project\")\n",
    "    task_index = columns.index(\"task\")\n",
    "    start_index = columns.index(\"start\")\n",
    "    end_index = columns.index(\"end\")\n",
    "    \n",
    "    for row in data.values:\n",
    "        day = row[day_index]\n",
    "        project = row[project_index]\n",
    "        task = row[task_index]\n",
    "        start = row[start_index]\n",
    "        end = row[end_index]\n",
    "\n",
    "        if (filter == None or filter == task):\n",
    "            start_time = datetime.datetime.strptime(start, '%I:%M %p')\n",
    "            end_time = datetime.datetime.strptime(end, '%I:%M %p')\n",
    "\n",
    "            start_time_index = start_time.hour * groups_per_hour + round(start_time.minute/(60/groups_per_hour))\n",
    "            end_time_index = end_time.hour * groups_per_hour + round(end_time.minute/(60/groups_per_hour))\n",
    "            \n",
    "            for time_index in range(start_time_index, end_time_index + 1):\n",
    "                complete_data[day][time_index] += 1\n",
    "    return complete_data"
   ]
  },
  {
   "cell_type": "code",
   "execution_count": 63,
   "metadata": {
    "collapsed": false
   },
   "outputs": [
    {
     "data": {
      "image/png": "[encoded data removed]",
      "text/plain": [
       "<matplotlib.figure.Figure at 0x1216f17b8>"
      ]
     },
     "metadata": {},
     "output_type": "display_data"
    }
   ],
   "source": [
    "fig = plt.figure(figsize=(18, 6))\n",
    "\n",
    "ax = fig.add_subplot(111)\n",
    "\n",
    "WEEK_TYPE = WEEK\n",
    "# GROUPS_PER_HOUR must be >= 2\n",
    "GROUPS_PER_HOUR = 6\n",
    "\n",
    "working_hours = get_working_hours(\"SkinIO\", GROUPS_PER_HOUR)\n",
    "time_labels = list(map(lambda label: (label if label <= 12 else label - 12), range(24)))\n",
    "\n",
    "# matshow displays matrices in their native ratio. To get this to display well, the data will\n",
    "# be padded. That will make each cell rectangular, but will make interpretation of the graph\n",
    "# much easier.\n",
    "\n",
    "target_ratio = 3\n",
    "time_length = len(working_hours[MON])\n",
    "days_length = len(WEEK_TYPE)\n",
    "current_ratio = time_length/days_length\n",
    "padding_scaler = round(current_ratio/target_ratio)\n",
    "\n",
    "df = []\n",
    "for day in WEEK_TYPE:\n",
    "    for _ in range(padding_scaler if padding_scaler > 0 else 1):\n",
    "        df.append(working_hours[day])\n",
    "        \n",
    "ticker_locations = [round(padding_scaler / 2) - 1]\n",
    "while (ticker_locations[-1] + padding_scaler) < len(df):\n",
    "    ticker_locations.append(ticker_locations[-1] + padding_scaler)\n",
    "\n",
    "cax = ax.matshow(df, interpolation='nearest', cmap='Blues')\n",
    "fig.colorbar(cax)\n",
    "\n",
    "ax.xaxis.set_major_locator(ticker.MultipleLocator(GROUPS_PER_HOUR))\n",
    "ax.yaxis.set_major_locator(ticker.FixedLocator(ticker_locations))\n",
    "\n",
    "ax.set_xticklabels([''] + list(time_labels))\n",
    "ax.set_yticklabels(list(WEEK_TYPE))\n",
    "\n",
    "plt.show()"
   ]
  },
  {
   "cell_type": "code",
   "execution_count": 26,
   "metadata": {
    "collapsed": true
   },
   "outputs": [],
   "source": []
  },
  {
   "cell_type": "code",
   "execution_count": null,
   "metadata": {
    "collapsed": true
   },
   "outputs": [],
   "source": []
  }
 ],
 "metadata": {
  "anaconda-cloud": {},
  "kernelspec": {
   "display_name": "Python 3",
   "language": "python",
   "name": "python3"
  },
  "language_info": {
   "codemirror_mode": {
    "name": "ipython",
    "version": 3
   },
   "file_extension": ".py",
   "mimetype": "text/x-python",
   "name": "python",
   "nbconvert_exporter": "python",
   "pygments_lexer": "ipython3",
   "version": "3.5.2"
  }
 },
 "nbformat": 4,
 "nbformat_minor": 1
}
